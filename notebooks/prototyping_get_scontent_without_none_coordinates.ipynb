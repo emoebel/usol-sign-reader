{
 "cells": [
  {
   "cell_type": "code",
   "id": "initial_id",
   "metadata": {
    "collapsed": true,
    "ExecuteTime": {
     "end_time": "2025-06-20T14:31:37.956740Z",
     "start_time": "2025-06-20T14:31:37.952573Z"
    }
   },
   "source": [
    "lcontent1 = {\n",
    "  'destination': ' Forsterhuus',\n",
    "  'duration': ' 1h 30min',\n",
    "  'pos_dest': (466.2275390625, 135.0),\n",
    "  'pos_dura': (515.5849609375, 104.0),\n",
    "  'symbols': None\n",
    "}\n",
    "\n",
    "lcontent2 = {\n",
    "  'destination': ' Pouet',\n",
    "  'duration': ' 1h 30min',\n",
    "  'pos_dest': (None, None), #(515.5849609375, 104.0),\n",
    "  'pos_dura': (None, None),\n",
    "  'symbols': None\n",
    "}\n",
    "\n",
    "scontent = [lcontent1, lcontent2]"
   ],
   "outputs": [],
   "execution_count": 15
  },
  {
   "metadata": {
    "ExecuteTime": {
     "end_time": "2025-06-20T14:32:12.189157Z",
     "start_time": "2025-06-20T14:32:12.183754Z"
    }
   },
   "cell_type": "code",
   "source": [
    "def get_scontent_without_none_coordinates(scontent):\n",
    "    '''\n",
    "    Sometimes TextReader makes errors and does not detect text lines correctly. In this case, text line coordinates\n",
    "    lcontent['pos_dest'] or lcontent['pos_dura'] can be (None, None), which produce errors later on when using\n",
    "    utils.transform.distance_btw_point_and_line. Therefor I make an approximation: the missing coordinate (pos_dest\n",
    "    or pos_dura) is replaced by the existing one (pos_dura or pos_dest), but shifted horizontally. I hope that there are\n",
    "    no cases where both coordinates are missing.\n",
    "    :param scontent:\n",
    "    :return:\n",
    "    '''\n",
    "    offset = 30 # in pixels\n",
    "    for idx, lcontent in enumerate(scontent):\n",
    "        if lcontent['pos_dest']==(None, None) and lcontent['pos_dura']==(None, None):\n",
    "            print(f'/!\\ In line {idx}, both pos_dest and pos_dura are None')\n",
    "\n",
    "        if lcontent['pos_dest']==(None, None):\n",
    "            [x, y] = lcontent['pos_dura']\n",
    "            lcontent['pos_dest'] = (x-offset, y) # shifted left\n",
    "        if lcontent['pos_dura']==(None, None):\n",
    "            [x, y] = lcontent['pos_dest']\n",
    "            lcontent['pos_dura'] = (x+offset, y) # shifted right\n",
    "\n",
    "\n",
    "        scontent[idx] = lcontent\n",
    "\n",
    "    return scontent"
   ],
   "id": "42a086a2c0cc2d2b",
   "outputs": [],
   "execution_count": 17
  },
  {
   "metadata": {
    "ExecuteTime": {
     "end_time": "2025-06-20T14:32:14.347708Z",
     "start_time": "2025-06-20T14:32:14.318630Z"
    }
   },
   "cell_type": "code",
   "source": [
    "scontent = get_scontent_without_none_coordinates(scontent)\n",
    "scontent"
   ],
   "id": "69cf2d5dd0ec103c",
   "outputs": [
    {
     "name": "stdout",
     "output_type": "stream",
     "text": [
      "/!\\ In line 1, both pos_dest and pos_dura are None\n"
     ]
    },
    {
     "ename": "TypeError",
     "evalue": "unsupported operand type(s) for -: 'NoneType' and 'int'",
     "output_type": "error",
     "traceback": [
      "\u001B[0;31m---------------------------------------------------------------------------\u001B[0m",
      "\u001B[0;31mTypeError\u001B[0m                                 Traceback (most recent call last)",
      "Cell \u001B[0;32mIn[18], line 1\u001B[0m\n\u001B[0;32m----> 1\u001B[0m scontent \u001B[38;5;241m=\u001B[39m \u001B[43mget_scontent_without_none_coordinates\u001B[49m\u001B[43m(\u001B[49m\u001B[43mscontent\u001B[49m\u001B[43m)\u001B[49m\n\u001B[1;32m      2\u001B[0m scontent\n",
      "Cell \u001B[0;32mIn[17], line 18\u001B[0m, in \u001B[0;36mget_scontent_without_none_coordinates\u001B[0;34m(scontent)\u001B[0m\n\u001B[1;32m     16\u001B[0m \u001B[38;5;28;01mif\u001B[39;00m lcontent[\u001B[38;5;124m'\u001B[39m\u001B[38;5;124mpos_dest\u001B[39m\u001B[38;5;124m'\u001B[39m]\u001B[38;5;241m==\u001B[39m(\u001B[38;5;28;01mNone\u001B[39;00m, \u001B[38;5;28;01mNone\u001B[39;00m):\n\u001B[1;32m     17\u001B[0m     [x, y] \u001B[38;5;241m=\u001B[39m lcontent[\u001B[38;5;124m'\u001B[39m\u001B[38;5;124mpos_dura\u001B[39m\u001B[38;5;124m'\u001B[39m]\n\u001B[0;32m---> 18\u001B[0m     lcontent[\u001B[38;5;124m'\u001B[39m\u001B[38;5;124mpos_dest\u001B[39m\u001B[38;5;124m'\u001B[39m] \u001B[38;5;241m=\u001B[39m (\u001B[43mx\u001B[49m\u001B[38;5;241;43m-\u001B[39;49m\u001B[43moffset\u001B[49m, y) \u001B[38;5;66;03m# shifted left\u001B[39;00m\n\u001B[1;32m     19\u001B[0m \u001B[38;5;28;01mif\u001B[39;00m lcontent[\u001B[38;5;124m'\u001B[39m\u001B[38;5;124mpos_dura\u001B[39m\u001B[38;5;124m'\u001B[39m]\u001B[38;5;241m==\u001B[39m(\u001B[38;5;28;01mNone\u001B[39;00m, \u001B[38;5;28;01mNone\u001B[39;00m):\n\u001B[1;32m     20\u001B[0m     [x, y] \u001B[38;5;241m=\u001B[39m lcontent[\u001B[38;5;124m'\u001B[39m\u001B[38;5;124mpos_dest\u001B[39m\u001B[38;5;124m'\u001B[39m]\n",
      "\u001B[0;31mTypeError\u001B[0m: unsupported operand type(s) for -: 'NoneType' and 'int'"
     ]
    }
   ],
   "execution_count": 18
  }
 ],
 "metadata": {
  "kernelspec": {
   "display_name": "Python 3",
   "language": "python",
   "name": "python3"
  },
  "language_info": {
   "codemirror_mode": {
    "name": "ipython",
    "version": 2
   },
   "file_extension": ".py",
   "mimetype": "text/x-python",
   "name": "python",
   "nbconvert_exporter": "python",
   "pygments_lexer": "ipython2",
   "version": "2.7.6"
  }
 },
 "nbformat": 4,
 "nbformat_minor": 5
}
