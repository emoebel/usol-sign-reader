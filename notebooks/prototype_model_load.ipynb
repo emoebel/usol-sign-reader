{
 "cells": [
  {
   "cell_type": "code",
   "id": "initial_id",
   "metadata": {
    "collapsed": true,
    "ExecuteTime": {
     "end_time": "2025-06-26T15:10:10.841795Z",
     "start_time": "2025-06-26T15:10:10.834347Z"
    }
   },
   "source": [
    "import os\n",
    "\n",
    "path_models='/Users/manu/boulot/unit_solutions/training/models'\n",
    "\n",
    "dir_fnames_yolo = os.listdir(os.path.join(path_models, 'yolo'))\n",
    "if len(dir_fnames_yolo)>1:\n",
    "    print('[ImageReader] Model loader error: yolo folder should contain only 1 file')\n",
    "\n",
    "fname_yolo = os.path.join(path_models, 'yolo', dir_fnames_yolo[0])\n",
    "print(fname_yolo)\n",
    "\n",
    "dir_fnames_cellpose = os.listdir(os.path.join(path_models, 'cellpose'))\n",
    "if len(dir_fnames_cellpose)>1:\n",
    "    print('[ImageReader] Model loader error: cellpose folder should contain only 1 file')\n",
    "fname_cellpose = os.path.join(path_models, 'cellpose', dir_fnames_cellpose[0])\n",
    "print(fname_cellpose)"
   ],
   "outputs": [
    {
     "name": "stdout",
     "output_type": "stream",
     "text": [
      "/Users/manu/boulot/unit_solutions/training/models/yolo/last.pt\n",
      "/Users/manu/boulot/unit_solutions/training/models/cellpose/model_cellpose_e30-40\n"
     ]
    }
   ],
   "execution_count": 4
  },
  {
   "metadata": {
    "ExecuteTime": {
     "end_time": "2025-06-26T15:17:25.601820Z",
     "start_time": "2025-06-26T15:17:12.247922Z"
    }
   },
   "cell_type": "code",
   "source": [
    "from signreader.detector import ImageReader\n",
    "\n",
    "ireader = ImageReader(\n",
    "    path_models='/Users/manu/boulot/unit_solutions/training/models',\n",
    "    print_flag=True,\n",
    ")"
   ],
   "id": "b3832f48d1b15b32",
   "outputs": [
    {
     "name": "stdout",
     "output_type": "stream",
     "text": [
      "\n",
      "\n",
      "Welcome to CellposeSAM, cellpose v\n",
      "cellpose version: \t4.0.4 \n",
      "platform:       \tdarwin \n",
      "python version: \t3.10.16 \n",
      "torch version:  \t2.7.1! The neural network component of\n",
      "CPSAM is much larger than in previous versions and CPU excution is slow. \n",
      "We encourage users to use GPU/MPS if available. \n",
      "\n",
      "\n"
     ]
    }
   ],
   "execution_count": 1
  }
 ],
 "metadata": {
  "kernelspec": {
   "display_name": "Python 3",
   "language": "python",
   "name": "python3"
  },
  "language_info": {
   "codemirror_mode": {
    "name": "ipython",
    "version": 2
   },
   "file_extension": ".py",
   "mimetype": "text/x-python",
   "name": "python",
   "nbconvert_exporter": "python",
   "pygments_lexer": "ipython2",
   "version": "2.7.6"
  }
 },
 "nbformat": 4,
 "nbformat_minor": 5
}
