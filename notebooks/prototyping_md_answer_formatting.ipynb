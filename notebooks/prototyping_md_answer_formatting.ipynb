{
 "cells": [
  {
   "cell_type": "code",
   "id": "initial_id",
   "metadata": {
    "collapsed": true,
    "ExecuteTime": {
     "end_time": "2025-06-24T09:48:00.443280Z",
     "start_time": "2025-06-24T09:48:00.438916Z"
    }
   },
   "source": [
    "#answer_destinations = 'Forsterhuis, Stein am Rhein'\n",
    "#answer_durations = '1h 30min and 2h 20min'\n",
    "\n",
    "#answer_destinations = 'Schlatttingen, Diessenhof, Laufen Rheinfall' # sometimes, not all destinations of durations are recognized. So we have to find which corresponds to which. But for now we will just attribute them in order\n",
    "#answer_durations = '2h 10min, 4h 40min'\n",
    "\n",
    "#answer_destinations = 'Bliggenswil, Stoffel, Kempten'\n",
    "#answer_durations = '30 minutes, 1 hour 10 minutes, 3 hours 20 minutes'\n",
    "\n",
    "#answer_destinations = 'Bonistock and Melchsee-Frutt'\n",
    "#answer_durations = '25 minutes and 1 hour 10 minutes'\n",
    "\n",
    "#answer_destinations = 'Sachseln\\nFlüeli Ranft\\nMusschwendli\\nFlüeli Ranft'\n",
    "#answer_durations = '10 minutes'\n",
    "\n",
    "answer_destinations = 'erschnialp\\nVorder Stafel\\nerschnialp\\nStation\\nTalst'\n",
    "answer_durations = '15 minutes, 15 minutes, 35 minutes, and 50 minutes'"
   ],
   "outputs": [],
   "execution_count": 3
  },
  {
   "metadata": {
    "ExecuteTime": {
     "end_time": "2025-06-24T09:48:01.949187Z",
     "start_time": "2025-06-24T09:48:01.943559Z"
    }
   },
   "cell_type": "code",
   "source": [
    "def split_md_answer_components(answer):\n",
    "    answer_splitted = [answer] # initalisation: nothing to be splitted (happens when only 1 component)\n",
    "    if answer.find('\\n') > -1:\n",
    "        answer_splitted = answer.split('\\n')\n",
    "    elif answer.find(',') > -1:\n",
    "        answer_splitted = answer.split(',')\n",
    "    elif answer.find('and') > -1:\n",
    "        answer_splitted = answer.split('and')\n",
    "    else:\n",
    "        '[TextReader]: no string splitter found'\n",
    "    return answer_splitted\n",
    "\n",
    "dest_str_list = split_md_answer_components(answer_destinations)\n",
    "dura_str_list = split_md_answer_components(answer_durations)\n",
    "\n",
    "def post_process_dura_str_list(dura_str_list):\n",
    "    for idx, dura_str in enumerate(dura_str_list):\n",
    "        if dura_str.find('and') > -1:  # sometime we have [' 15 minutes', ' 35 minutes', ' and 50 minutes']\n",
    "            dura_str = dura_str.replace('and', '')\n",
    "            dura_str_list[idx] = dura_str\n",
    "\n",
    "    return dura_str_list\n",
    "\n",
    "dura_str_list = post_process_dura_str_list(dura_str_list)\n"
   ],
   "id": "6c97ccef6cb60563",
   "outputs": [],
   "execution_count": 4
  },
  {
   "metadata": {
    "ExecuteTime": {
     "end_time": "2025-06-24T09:48:04.474475Z",
     "start_time": "2025-06-24T09:48:04.466455Z"
    }
   },
   "cell_type": "code",
   "source": "dest_str_list\n",
   "id": "c62cb903ac5fe940",
   "outputs": [
    {
     "data": {
      "text/plain": [
       "['erschnialp', 'Vorder Stafel', 'erschnialp', 'Station', 'Talst']"
      ]
     },
     "execution_count": 5,
     "metadata": {},
     "output_type": "execute_result"
    }
   ],
   "execution_count": 5
  },
  {
   "metadata": {
    "ExecuteTime": {
     "end_time": "2025-06-24T09:48:06.421884Z",
     "start_time": "2025-06-24T09:48:06.417081Z"
    }
   },
   "cell_type": "code",
   "source": "dura_str_list\n",
   "id": "c3a882ddf1447de",
   "outputs": [
    {
     "data": {
      "text/plain": [
       "['15 minutes', ' 15 minutes', ' 35 minutes', '  50 minutes']"
      ]
     },
     "execution_count": 6,
     "metadata": {},
     "output_type": "execute_result"
    }
   ],
   "execution_count": 6
  },
  {
   "metadata": {},
   "cell_type": "markdown",
   "source": "This should be a method: create_line_data. Later in the development, this function should have a smarter way of making dest-dura correspondence (considering the positions in image)",
   "id": "4bc5dba4663f7fa4"
  },
  {
   "metadata": {
    "ExecuteTime": {
     "end_time": "2025-06-24T09:48:08.029964Z",
     "start_time": "2025-06-24T09:48:08.024358Z"
    }
   },
   "cell_type": "code",
   "source": [
    "scontent = []\n",
    "for idx, dest_str in enumerate(dest_str_list):\n",
    "    if idx<len(dura_str_list):\n",
    "        dura_str = dura_str_list[idx]\n",
    "    else:\n",
    "        dura_str = None\n",
    "    scontent.append(\n",
    "        {'destination': dest_str, 'duration': dura_str}\n",
    "    )\n",
    "scontent"
   ],
   "id": "e1a06286fa8b46b9",
   "outputs": [
    {
     "data": {
      "text/plain": [
       "[{'destination': 'erschnialp', 'duration': '15 minutes'},\n",
       " {'destination': 'Vorder Stafel', 'duration': ' 15 minutes'},\n",
       " {'destination': 'erschnialp', 'duration': ' 35 minutes'},\n",
       " {'destination': 'Station', 'duration': '  50 minutes'},\n",
       " {'destination': 'Talst', 'duration': None}]"
      ]
     },
     "execution_count": 7,
     "metadata": {},
     "output_type": "execute_result"
    }
   ],
   "execution_count": 7
  }
 ],
 "metadata": {
  "kernelspec": {
   "display_name": "Python 3",
   "language": "python",
   "name": "python3"
  },
  "language_info": {
   "codemirror_mode": {
    "name": "ipython",
    "version": 2
   },
   "file_extension": ".py",
   "mimetype": "text/x-python",
   "name": "python",
   "nbconvert_exporter": "python",
   "pygments_lexer": "ipython2",
   "version": "2.7.6"
  }
 },
 "nbformat": 4,
 "nbformat_minor": 5
}
