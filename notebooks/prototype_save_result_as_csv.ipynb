{
 "cells": [
  {
   "cell_type": "code",
   "id": "initial_id",
   "metadata": {
    "collapsed": true,
    "ExecuteTime": {
     "end_time": "2025-06-26T16:17:59.426825Z",
     "start_time": "2025-06-26T16:17:59.418432Z"
    }
   },
   "source": [
    "import pickle\n",
    "path_icontent = '/Users/manu/boulot/unit_solutions/predictions/image_reader/tmp/126461-1_1.pkl'\n",
    "\n",
    "with open(path_icontent, \"rb\") as f:\n",
    "    icontent = pickle.load(f)\n",
    "\n",
    "class_names = {\n",
    "    0: 'aussichtspunkt',\n",
    "    1: 'bahnhof',\n",
    "    2: 'bushof',\n",
    "    3: 'feuerstelle',\n",
    "     4: 'gondelbahn',\n",
    "     5: 'huette',\n",
    "     6: 'luftseilbahn',\n",
    "     7: 'other',\n",
    "     8: 'restaurant',\n",
    "     9: 'schiffstation',\n",
    "     10: 'sessellift',\n",
    "     11: 'strassenbahn',\n",
    "     12: 'zahnrad-standseilbahn',\n",
    "}"
   ],
   "outputs": [],
   "execution_count": 1
  },
  {
   "metadata": {
    "ExecuteTime": {
     "end_time": "2025-06-26T16:00:26.445004Z",
     "start_time": "2025-06-26T16:00:26.439042Z"
    }
   },
   "cell_type": "code",
   "source": "icontent[0][1]['symbols']",
   "id": "591edbce13eb8ca7",
   "outputs": [
    {
     "data": {
      "text/plain": [
       "[2, 1]"
      ]
     },
     "execution_count": 12,
     "metadata": {},
     "output_type": "execute_result"
    }
   ],
   "execution_count": 12
  },
  {
   "metadata": {
    "ExecuteTime": {
     "end_time": "2025-06-26T16:13:15.332394Z",
     "start_time": "2025-06-26T16:13:15.321289Z"
    }
   },
   "cell_type": "code",
   "source": [
    "import pandas as pd\n",
    "df = pd.DataFrame(columns=['sign_index', 'destination', 'duration', 'symbols'])\n",
    "df"
   ],
   "id": "c229a8ddba966c18",
   "outputs": [
    {
     "data": {
      "text/plain": [
       "Empty DataFrame\n",
       "Columns: [sign_index, destination, duration, symbols]\n",
       "Index: []"
      ],
      "text/html": [
       "<div>\n",
       "<style scoped>\n",
       "    .dataframe tbody tr th:only-of-type {\n",
       "        vertical-align: middle;\n",
       "    }\n",
       "\n",
       "    .dataframe tbody tr th {\n",
       "        vertical-align: top;\n",
       "    }\n",
       "\n",
       "    .dataframe thead th {\n",
       "        text-align: right;\n",
       "    }\n",
       "</style>\n",
       "<table border=\"1\" class=\"dataframe\">\n",
       "  <thead>\n",
       "    <tr style=\"text-align: right;\">\n",
       "      <th></th>\n",
       "      <th>sign_index</th>\n",
       "      <th>destination</th>\n",
       "      <th>duration</th>\n",
       "      <th>symbols</th>\n",
       "    </tr>\n",
       "  </thead>\n",
       "  <tbody>\n",
       "  </tbody>\n",
       "</table>\n",
       "</div>"
      ]
     },
     "execution_count": 19,
     "metadata": {},
     "output_type": "execute_result"
    }
   ],
   "execution_count": 19
  },
  {
   "metadata": {
    "ExecuteTime": {
     "end_time": "2025-06-26T16:13:17.292351Z",
     "start_time": "2025-06-26T16:13:17.276037Z"
    }
   },
   "cell_type": "code",
   "source": [
    "for sign_index, scontent in enumerate(icontent):\n",
    "    for lcontent in scontent:\n",
    "\n",
    "        duration_string = ''\n",
    "        if lcontent['duration']['hours'] is not None:\n",
    "            duration_string += str(lcontent['duration']['hours']) + 'h '\n",
    "        if lcontent['duration']['minutes'] is not None:\n",
    "            duration_string += str(lcontent['duration']['minutes']) + 'm'\n",
    "\n",
    "        symbols_string = ''\n",
    "        if lcontent['symbols'] is not None:\n",
    "            for class_idx in lcontent['symbols']:\n",
    "                symbols_string += class_names[class_idx] + ', '\n",
    "\n",
    "        new_row = pd.DataFrame({\n",
    "            'sign_index': [sign_index],\n",
    "            'destination': [lcontent['destination']],\n",
    "            'duration': [duration_string],\n",
    "            'symbols': [symbols_string]\n",
    "        })\n",
    "        df = pd.concat([df, new_row], ignore_index=True)\n",
    "\n",
    "print(df)"
   ],
   "id": "68420117fe864f60",
   "outputs": [
    {
     "name": "stdout",
     "output_type": "stream",
     "text": [
      "  sign_index  destination duration            symbols\n",
      "0          0      Rümbeli      10m                   \n",
      "1          0  Andelfingen   2h 10m  bushof, bahnhof, \n",
      "2          1      Gurisee      15m      feuerstelle, \n",
      "3          1       W'thur   2h 20m                   \n",
      "4          1     Veltheim                    bushof, \n"
     ]
    }
   ],
   "execution_count": 20
  },
  {
   "metadata": {
    "ExecuteTime": {
     "end_time": "2025-06-26T16:19:25.540459Z",
     "start_time": "2025-06-26T16:19:25.512828Z"
    }
   },
   "cell_type": "code",
   "source": [
    "import pandas as pd\n",
    "\n",
    "def save_image_content_as_csv(icontent, class_names, fname):\n",
    "    df = pd.DataFrame(columns=['sign_index', 'destination', 'duration', 'symbols'])\n",
    "    for sign_index, scontent in enumerate(icontent):\n",
    "        for lcontent in scontent:\n",
    "            duration_string = ''\n",
    "            if lcontent['duration']['hours'] is not None:\n",
    "                duration_string += str(lcontent['duration']['hours']) + 'h '\n",
    "            if lcontent['duration']['minutes'] is not None:\n",
    "                duration_string += str(lcontent['duration']['minutes']) + 'm'\n",
    "\n",
    "            symbols_string = ''\n",
    "            if lcontent['symbols'] is not None:\n",
    "                for class_idx in lcontent['symbols']:\n",
    "                    symbols_string += class_names[class_idx] + ', '\n",
    "\n",
    "            new_row = pd.DataFrame({\n",
    "                'sign_index': [sign_index],\n",
    "                'destination': [lcontent['destination']],\n",
    "                'duration': [duration_string],\n",
    "                'symbols': [symbols_string]\n",
    "            })\n",
    "            df = pd.concat([df, new_row], ignore_index=True)\n",
    "    df.to_csv(fname)\n",
    "\n",
    "save_image_content_as_csv(icontent, class_names, '/Users/manu/boulot/unit_solutions/predictions/image_reader/tmp/126461-1_1.csv')\n"
   ],
   "id": "2adaf2cd69c9402",
   "outputs": [],
   "execution_count": 4
  }
 ],
 "metadata": {
  "kernelspec": {
   "display_name": "Python 3",
   "language": "python",
   "name": "python3"
  },
  "language_info": {
   "codemirror_mode": {
    "name": "ipython",
    "version": 2
   },
   "file_extension": ".py",
   "mimetype": "text/x-python",
   "name": "python",
   "nbconvert_exporter": "python",
   "pygments_lexer": "ipython2",
   "version": "2.7.6"
  }
 },
 "nbformat": 4,
 "nbformat_minor": 5
}
