{
 "cells": [
  {
   "metadata": {},
   "cell_type": "markdown",
   "source": "Instanciate image reader:",
   "id": "96b0103804d15cf6"
  },
  {
   "cell_type": "code",
   "id": "initial_id",
   "metadata": {
    "collapsed": true,
    "ExecuteTime": {
     "end_time": "2025-06-19T12:21:52.650467Z",
     "start_time": "2025-06-19T12:21:36.606111Z"
    }
   },
   "source": [
    "from signreader.detector import ImageReader\n",
    "\n",
    "ireader = ImageReader(print=True)"
   ],
   "outputs": [
    {
     "name": "stdout",
     "output_type": "stream",
     "text": [
      "\n",
      "\n",
      "Welcome to CellposeSAM, cellpose v\n",
      "cellpose version: \t4.0.4 \n",
      "platform:       \tdarwin \n",
      "python version: \t3.10.16 \n",
      "torch version:  \t2.7.1! The neural network component of\n",
      "CPSAM is much larger than in previous versions and CPU excution is slow. \n",
      "We encourage users to use GPU/MPS if available. \n",
      "\n",
      "\n"
     ]
    }
   ],
   "execution_count": 1
  },
  {
   "metadata": {},
   "cell_type": "markdown",
   "source": "Open image:",
   "id": "d6f2025bcf585659"
  },
  {
   "metadata": {
    "ExecuteTime": {
     "end_time": "2025-06-19T12:21:56.860901Z",
     "start_time": "2025-06-19T12:21:56.843219Z"
    }
   },
   "cell_type": "code",
   "source": [
    "from PIL import Image\n",
    "\n",
    "fname_img = '/Users/manu/boulot/unit_solutions/data/datasets/segmentation/cellpose/test/48159-1_2.jpg'\n",
    "img_pil = Image.open(fname_img)"
   ],
   "id": "dbebaae8253deceb",
   "outputs": [],
   "execution_count": 2
  },
  {
   "metadata": {},
   "cell_type": "markdown",
   "source": "Run analysis:",
   "id": "85b16421810c4b2e"
  },
  {
   "metadata": {
    "ExecuteTime": {
     "end_time": "2025-06-19T12:25:14.712388Z",
     "start_time": "2025-06-19T12:22:23.936482Z"
    }
   },
   "cell_type": "code",
   "source": "icontent = ireader(img_pil)",
   "id": "27cd4d825f390c08",
   "outputs": [
    {
     "name": "stdout",
     "output_type": "stream",
     "text": [
      "Running sign detector...\n",
      "Analyzing sign 1...\n",
      "Running text reader...\n",
      "Running symbol detector...\n",
      "\n",
      "0: 1920x2560 1 bushof, 1846.4ms\n",
      "Speed: 84.9ms preprocess, 1846.4ms inference, 7.2ms postprocess per image at shape (1, 3, 1920, 2560)\n",
      "Putting all sign information together...\n",
      "Analyzing sign 2...\n",
      "Running text reader...\n",
      "Running symbol detector...\n",
      "\n",
      "0: 1920x2560 1 bushof, 1820.8ms\n",
      "Speed: 85.0ms preprocess, 1820.8ms inference, 4.5ms postprocess per image at shape (1, 3, 1920, 2560)\n",
      "Putting all sign information together...\n",
      "Analyzing sign 3...\n",
      "Running text reader...\n",
      "Running symbol detector...\n",
      "\n",
      "0: 1920x2560 1 bahnhof, 1 bushof, 1 strassenbahn, 1799.5ms\n",
      "Speed: 92.3ms preprocess, 1799.5ms inference, 4.5ms postprocess per image at shape (1, 3, 1920, 2560)\n",
      "Putting all sign information together...\n"
     ]
    }
   ],
   "execution_count": 3
  },
  {
   "metadata": {},
   "cell_type": "code",
   "outputs": [],
   "execution_count": null,
   "source": [
    "import numpy as np\n",
    "import matplotlib.pyplot as plt\n",
    "\n",
    "def plot_detector_result(img_np, masks, icontent):\n",
    "    mask_binary = masks >= 1\n",
    "\n",
    "    # Multiply image by mask, so we see only signs. Everything else is blacked out\n",
    "    img_np_focus = np.zeros(img_np.shape, dtype=np.uint8)\n",
    "    for channel in range(3):\n",
    "        img_np_focus[:, :, channel] = img_np[:, :, channel] * mask_binary\n",
    "\n",
    "    fig, axes = plt.subplots(1,3)\n",
    "    axes[0].imshow(img_np_focus)\n",
    "    axes[0].set_title('Input image')\n",
    "\n",
    "    axes[1].imshow(img_np_focus)\n",
    "    for box in boxes:\n",
    "        x1, y1, x2, y2 = box.xyxy[0]\n",
    "        confidence = float(box.conf[0])\n",
    "        class_id = int(box.cls[0])\n",
    "        label = class_names[class_id]\n",
    "\n",
    "        # Ajouter une boîte rectangle\n",
    "        width, height = x2 - x1, y2 - y1\n",
    "        rect = patches.Rectangle((x1, y1), width, height,\n",
    "                                 linewidth=1, edgecolor='magenta', facecolor='none')\n",
    "        ax.add_patch(rect)\n",
    "\n",
    "        # Ajouter le texte (label + score)\n",
    "        text = f\"{label} {confidence:.2f}\"\n",
    "        ax.text(x1, y1 - 5, text,\n",
    "            color='magenta',\n",
    "            fontsize='xx-small')"
   ],
   "id": "cfd128bd855cbb44"
  }
 ],
 "metadata": {
  "kernelspec": {
   "display_name": "Python 3",
   "language": "python",
   "name": "python3"
  },
  "language_info": {
   "codemirror_mode": {
    "name": "ipython",
    "version": 2
   },
   "file_extension": ".py",
   "mimetype": "text/x-python",
   "name": "python",
   "nbconvert_exporter": "python",
   "pygments_lexer": "ipython2",
   "version": "2.7.6"
  }
 },
 "nbformat": 4,
 "nbformat_minor": 5
}
