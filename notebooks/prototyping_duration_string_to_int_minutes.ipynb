{
 "cells": [
  {
   "cell_type": "code",
   "id": "initial_id",
   "metadata": {
    "collapsed": true,
    "ExecuteTime": {
     "end_time": "2025-06-24T10:06:49.353794Z",
     "start_time": "2025-06-24T10:06:49.349191Z"
    }
   },
   "source": [
    "#dura_str = '1h 30min'\n",
    "#dura_str = '2h'\n",
    "#dura_str = '10 min'\n",
    "#dura_str = '4 hours 30 minutes'\n",
    "#dura_str = '10 minutes'\n",
    "#dura_str = '2 h 10 min'\n",
    "#dura_str = ' 3h'\n",
    "#dura_str = ' 1 hour 10 minutes'\n",
    "dura_str = '1:35 min'\n"
   ],
   "outputs": [],
   "execution_count": 69
  },
  {
   "metadata": {
    "ExecuteTime": {
     "end_time": "2025-06-24T10:06:50.662499Z",
     "start_time": "2025-06-24T10:06:50.652119Z"
    }
   },
   "cell_type": "code",
   "source": [
    "dura_dict = {'hours': None, 'minutes': None}\n",
    "\n",
    "if dura_str.find(':') > -1: # '1:35 min'\n",
    "    idx = dura_str.find(':')\n",
    "    hours_str = dura_str[:idx]\n",
    "    dura_dict['hours'] = int(hours_str)\n",
    "    dura_str = dura_str.replace(hours_str+':', '')\n",
    "\n",
    "if dura_str.find('hours') > -1:\n",
    "    idx = dura_str.find('hours')\n",
    "    hours_str = dura_str[:idx]\n",
    "    dura_dict['hours'] = int(hours_str)\n",
    "    dura_str = dura_str.replace(hours_str+'hours', '')\n",
    "\n",
    "if dura_str.find('hour') > -1:\n",
    "    idx = dura_str.find('hour')\n",
    "    hours_str = dura_str[:idx]\n",
    "    dura_dict['hours'] = int(hours_str)\n",
    "    dura_str = dura_str.replace(hours_str+'hour', '')\n",
    "\n",
    "if dura_str.find('minutes') > -1:\n",
    "    idx = dura_str.find('minutes')\n",
    "    minutes_str = dura_str[:idx]\n",
    "    dura_dict['minutes'] = int(minutes_str)\n",
    "    minutes_str = minutes_str.replace(minutes_str+'minutes', '')\n",
    "\n",
    "if dura_str.find('h') > -1:\n",
    "    idx = dura_str.find('h')\n",
    "    hours_str = dura_str[:idx]\n",
    "    dura_dict['hours'] = int(hours_str)\n",
    "    dura_str = dura_str.replace(hours_str+'h', '')\n",
    "\n",
    "if dura_str.find('min') > -1:\n",
    "    idx = dura_str.find('min')\n",
    "    minutes_str = dura_str[:idx]\n",
    "    dura_dict['minutes'] = int(minutes_str)\n",
    "\n",
    "dura_dict"
   ],
   "id": "6e97134d665b6aa6",
   "outputs": [
    {
     "data": {
      "text/plain": [
       "{'hours': 1, 'minutes': 35}"
      ]
     },
     "execution_count": 70,
     "metadata": {},
     "output_type": "execute_result"
    }
   ],
   "execution_count": 70
  }
 ],
 "metadata": {
  "kernelspec": {
   "display_name": "Python 3",
   "language": "python",
   "name": "python3"
  },
  "language_info": {
   "codemirror_mode": {
    "name": "ipython",
    "version": 2
   },
   "file_extension": ".py",
   "mimetype": "text/x-python",
   "name": "python",
   "nbconvert_exporter": "python",
   "pygments_lexer": "ipython2",
   "version": "2.7.6"
  }
 },
 "nbformat": 4,
 "nbformat_minor": 5
}
