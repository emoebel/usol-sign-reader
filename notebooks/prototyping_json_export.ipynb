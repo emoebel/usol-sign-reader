{
 "cells": [
  {
   "cell_type": "code",
   "id": "initial_id",
   "metadata": {
    "collapsed": true,
    "ExecuteTime": {
     "end_time": "2025-06-23T15:04:41.257593Z",
     "start_time": "2025-06-23T15:04:41.249387Z"
    }
   },
   "source": [
    "import pickle\n",
    "\n",
    "fname = '/Users/manu/boulot/unit_solutions/predictions/image_reader/cellpose_test_set/48159-1_2.pkl'\n",
    "with open(fname, \"rb\") as f:\n",
    "    icontent = pickle.load(f)\n",
    "\n",
    "icontent"
   ],
   "outputs": [
    {
     "data": {
      "text/plain": [
       "[[{'destination': ' Forsterhuus',\n",
       "   'duration': ' 1h 30min',\n",
       "   'pos_dest': (466.2275390625, 135.0),\n",
       "   'pos_dura': (515.5849609375, 104.0),\n",
       "   'symbols': None},\n",
       "  {'destination': 'Stein am Rhein',\n",
       "   'duration': ' 2h 20min',\n",
       "   'pos_dest': (364.8447265625, 173.0),\n",
       "   'pos_dura': (510.2490234375, 146.0),\n",
       "   'symbols': [11]}],\n",
       " [{'destination': ' Stammheim',\n",
       "   'duration': ' 10 min',\n",
       "   'pos_dest': (115.3896484375, 203.5),\n",
       "   'pos_dura': (232.7802734375, 180.0),\n",
       "   'symbols': [2]}],\n",
       " [{'destination': ' Schlattingen',\n",
       "   'duration': ' 1h',\n",
       "   'pos_dest': (502.2451171875, 270.0),\n",
       "   'pos_dura': (543.5986328125, 243.5),\n",
       "   'symbols': None},\n",
       "  {'destination': ' Diessenhofen',\n",
       "   'duration': ' 2h 10min',\n",
       "   'pos_dest': (418.2041015625, 267.0),\n",
       "   'pos_dura': (572.279296875, 274.0),\n",
       "   'symbols': [11, 1]},\n",
       "  {'destination': ' Laufen',\n",
       "   'duration': ' 4h 40min',\n",
       "   'pos_dest': (497.576171875, 304.0),\n",
       "   'pos_dura': (568.27734375, 301.5),\n",
       "   'symbols': [11]}]]"
      ]
     },
     "execution_count": 2,
     "metadata": {},
     "output_type": "execute_result"
    }
   ],
   "execution_count": 2
  },
  {
   "metadata": {
    "ExecuteTime": {
     "end_time": "2025-06-23T15:15:05.777777Z",
     "start_time": "2025-06-23T15:15:05.774599Z"
    }
   },
   "cell_type": "code",
   "source": "from signreader.utils.jsonusol import *",
   "id": "cb21760a2f61e20d",
   "outputs": [],
   "execution_count": 4
  },
  {
   "metadata": {
    "ExecuteTime": {
     "end_time": "2025-06-23T15:54:44.767059Z",
     "start_time": "2025-06-23T15:54:44.733334Z"
    }
   },
   "cell_type": "code",
   "source": [
    "from signreader.utils.jsonusol import *\n",
    "\n",
    "\n",
    "gelb_tafel_list = []\n",
    "for sign_content in icontent:  # for each sign\n",
    "    tafel_teil_entry_list = []\n",
    "    for idx, line_content in enumerate(sign_content):  # for each line\n",
    "        # tafel_teil_entry = GelbTafelEintragDto(\n",
    "        #     name=line_content['destination'],\n",
    "        #     zeile=idx,\n",
    "        #     zeit=line_content['duration'],\n",
    "        #     symbol1=SymbolsEnum.Restaurant,\n",
    "        #     spitze_type=TafelSpitzeTypeEnum.Wanderweg,\n",
    "        # )\n",
    "        # tafel_teil_entry_list.append(tafel_teil_entry)\n",
    "\n",
    "\n",
    "        tafel_teil_entry = GelbTafelEintragDto(\n",
    "            name=\"Bannholz\",\n",
    "            zeile=0,\n",
    "            zeit=20,\n",
    "            symbol1=SymbolsEnum.Restaurant,\n",
    "            spitze_type=TafelSpitzeTypeEnum.Wanderweg,\n",
    "        )\n",
    "        tafel_teil_entry_list.append(tafel_teil_entry)\n",
    "\n",
    "    gelb_tafel_teil = GelbTafelTeilDto(\n",
    "        system_winkel=180,\n",
    "        montage_winkel=180,\n",
    "        ausrichtung_beschriftung=AusrichtungBeschriftungTypeEnum.Right,\n",
    "        order=1,\n",
    "        spitze_type=TafelSpitzeTypeEnum.Wanderweg,\n",
    "        anzahl_zeilen=3,\n",
    "        entries=tafel_teil_entry_list,\n",
    "        id=uuid4(),\n",
    "    )\n",
    "\n",
    "    gelb_tafel = GelbTafelDto(\n",
    "        nummer=1,\n",
    "        old_nummer=None,\n",
    "        has_standort_feld=False,\n",
    "        tafel_type=TafelTypeEnum.ZielwegweiserMitZielUndZeitAngabe,\n",
    "        lv_arts=LvArtsEnum.Wandern,\n",
    "        skin=SkinTypeEnum.VssNorm,\n",
    "        seite=SeiteTypeEnum.OneSide,\n",
    "        display_placeholder=False,\n",
    "        is_doppelwegweiser=False,\n",
    "        tafel_teile=gelb_tafel_teil,\n",
    "        id=uuid4(),\n",
    "    )\n",
    "#\n",
    "#     gelb_tafel_list.append(gelb_tafel)\n",
    "#\n",
    "#\n",
    "# example = TafelMetaInformationDto(\n",
    "#     output_format=TafelOutputFormatEnum.SVGEmbedFonts,\n",
    "#     output_unit=TafelOutputUnitEnum.Pixel,\n",
    "#     mounting_area_visible=True,\n",
    "#     info_or_warning_symbol_visible=False,\n",
    "#     ignore_seite_property=False,\n",
    "#     mounting_holes_visible=False,\n",
    "#     mounting_separation_line_visible=False,\n",
    "#     tafel_border_visible=False,\n",
    "#     tafel_color_visible=True,\n",
    "#     tafel_spitze_visible=True,\n",
    "#     standort_nummer_visible=False,\n",
    "#     doppel_spitz_center_vertically=False,\n",
    "#     standort_nummer=\"\",\n",
    "#     standort_nummer_vertical=False,\n",
    "#     config_type=0,\n",
    "#     gelb_tafel_list=[],\n",
    "#     id=uuid4()\n",
    "# )\n",
    "\n"
   ],
   "id": "8479c7e66226598f",
   "outputs": [
    {
     "ename": "ValidationError",
     "evalue": "15 validation errors for GelbTafelDto\ntafel_teile.0\n  Input should be a valid dictionary or instance of GelbTafelTeilDto [type=model_type, input_value=('id', UUID('3812988e-535...2ce-9f3a-32d2ed349f3f')), input_type=tuple]\n    For further information visit https://errors.pydantic.dev/2.11/v/model_type\ntafel_teile.1\n  Input should be a valid dictionary or instance of GelbTafelTeilDto [type=model_type, input_value=('system_winkel', 180), input_type=tuple]\n    For further information visit https://errors.pydantic.dev/2.11/v/model_type\ntafel_teile.2\n  Input should be a valid dictionary or instance of GelbTafelTeilDto [type=model_type, input_value=('montage_winkel', 180), input_type=tuple]\n    For further information visit https://errors.pydantic.dev/2.11/v/model_type\ntafel_teile.3\n  Input should be a valid dictionary or instance of GelbTafelTeilDto [type=model_type, input_value=('ausrichtung_beschriftun...ftungTypeEnum.Right: 1>), input_type=tuple]\n    For further information visit https://errors.pydantic.dev/2.11/v/model_type\ntafel_teile.4\n  Input should be a valid dictionary or instance of GelbTafelTeilDto [type=model_type, input_value=('order', 1), input_type=tuple]\n    For further information visit https://errors.pydantic.dev/2.11/v/model_type\ntafel_teile.5\n  Input should be a valid dictionary or instance of GelbTafelTeilDto [type=model_type, input_value=('routen_feld1', None), input_type=tuple]\n    For further information visit https://errors.pydantic.dev/2.11/v/model_type\ntafel_teile.6\n  Input should be a valid dictionary or instance of GelbTafelTeilDto [type=model_type, input_value=('routen_feld2', None), input_type=tuple]\n    For further information visit https://errors.pydantic.dev/2.11/v/model_type\ntafel_teile.7\n  Input should be a valid dictionary or instance of GelbTafelTeilDto [type=model_type, input_value=('routen_feld3', None), input_type=tuple]\n    For further information visit https://errors.pydantic.dev/2.11/v/model_type\ntafel_teile.8\n  Input should be a valid dictionary or instance of GelbTafelTeilDto [type=model_type, input_value=('spitze_type', <TafelSpi...eTypeEnum.Wanderweg: 1>), input_type=tuple]\n    For further information visit https://errors.pydantic.dev/2.11/v/model_type\ntafel_teile.9\n  Input should be a valid dictionary or instance of GelbTafelTeilDto [type=model_type, input_value=('anzahl_zeilen', 3), input_type=tuple]\n    For further information visit https://errors.pydantic.dev/2.11/v/model_type\ntafel_teile.10\n  Input should be a valid dictionary or instance of GelbTafelTeilDto [type=model_type, input_value=('entries', [GelbTafelEin...hwierigkeitsgrad=None)]), input_type=tuple]\n    For further information visit https://errors.pydantic.dev/2.11/v/model_type\ntafel_teile.11\n  Input should be a valid dictionary or instance of GelbTafelTeilDto [type=model_type, input_value=('zubringer_symbol1', None), input_type=tuple]\n    For further information visit https://errors.pydantic.dev/2.11/v/model_type\ntafel_teile.12\n  Input should be a valid dictionary or instance of GelbTafelTeilDto [type=model_type, input_value=('zubringer_symbol2', None), input_type=tuple]\n    For further information visit https://errors.pydantic.dev/2.11/v/model_type\ntafel_teile.13\n  Input should be a valid dictionary or instance of GelbTafelTeilDto [type=model_type, input_value=('zubringer_text', None), input_type=tuple]\n    For further information visit https://errors.pydantic.dev/2.11/v/model_type\ntafel_teile.14\n  Input should be a valid dictionary or instance of GelbTafelTeilDto [type=model_type, input_value=('zubringer_text_scaling_mode', None), input_type=tuple]\n    For further information visit https://errors.pydantic.dev/2.11/v/model_type",
     "output_type": "error",
     "traceback": [
      "\u001B[0;31m---------------------------------------------------------------------------\u001B[0m",
      "\u001B[0;31mValidationError\u001B[0m                           Traceback (most recent call last)",
      "Cell \u001B[0;32mIn[18], line 38\u001B[0m\n\u001B[1;32m     25\u001B[0m         tafel_teil_entry_list\u001B[38;5;241m.\u001B[39mappend(tafel_teil_entry)\n\u001B[1;32m     27\u001B[0m     gelb_tafel_teil \u001B[38;5;241m=\u001B[39m GelbTafelTeilDto(\n\u001B[1;32m     28\u001B[0m         system_winkel\u001B[38;5;241m=\u001B[39m\u001B[38;5;241m180\u001B[39m,\n\u001B[1;32m     29\u001B[0m         montage_winkel\u001B[38;5;241m=\u001B[39m\u001B[38;5;241m180\u001B[39m,\n\u001B[0;32m   (...)\u001B[0m\n\u001B[1;32m     35\u001B[0m         \u001B[38;5;28mid\u001B[39m\u001B[38;5;241m=\u001B[39muuid4(),\n\u001B[1;32m     36\u001B[0m     )\n\u001B[0;32m---> 38\u001B[0m     gelb_tafel \u001B[38;5;241m=\u001B[39m \u001B[43mGelbTafelDto\u001B[49m\u001B[43m(\u001B[49m\n\u001B[1;32m     39\u001B[0m \u001B[43m        \u001B[49m\u001B[43mnummer\u001B[49m\u001B[38;5;241;43m=\u001B[39;49m\u001B[38;5;241;43m1\u001B[39;49m\u001B[43m,\u001B[49m\n\u001B[1;32m     40\u001B[0m \u001B[43m        \u001B[49m\u001B[43mold_nummer\u001B[49m\u001B[38;5;241;43m=\u001B[39;49m\u001B[38;5;28;43;01mNone\u001B[39;49;00m\u001B[43m,\u001B[49m\n\u001B[1;32m     41\u001B[0m \u001B[43m        \u001B[49m\u001B[43mhas_standort_feld\u001B[49m\u001B[38;5;241;43m=\u001B[39;49m\u001B[38;5;28;43;01mFalse\u001B[39;49;00m\u001B[43m,\u001B[49m\n\u001B[1;32m     42\u001B[0m \u001B[43m        \u001B[49m\u001B[43mtafel_type\u001B[49m\u001B[38;5;241;43m=\u001B[39;49m\u001B[43mTafelTypeEnum\u001B[49m\u001B[38;5;241;43m.\u001B[39;49m\u001B[43mZielwegweiserMitZielUndZeitAngabe\u001B[49m\u001B[43m,\u001B[49m\n\u001B[1;32m     43\u001B[0m \u001B[43m        \u001B[49m\u001B[43mlv_arts\u001B[49m\u001B[38;5;241;43m=\u001B[39;49m\u001B[43mLvArtsEnum\u001B[49m\u001B[38;5;241;43m.\u001B[39;49m\u001B[43mWandern\u001B[49m\u001B[43m,\u001B[49m\n\u001B[1;32m     44\u001B[0m \u001B[43m        \u001B[49m\u001B[43mskin\u001B[49m\u001B[38;5;241;43m=\u001B[39;49m\u001B[43mSkinTypeEnum\u001B[49m\u001B[38;5;241;43m.\u001B[39;49m\u001B[43mVssNorm\u001B[49m\u001B[43m,\u001B[49m\n\u001B[1;32m     45\u001B[0m \u001B[43m        \u001B[49m\u001B[43mseite\u001B[49m\u001B[38;5;241;43m=\u001B[39;49m\u001B[43mSeiteTypeEnum\u001B[49m\u001B[38;5;241;43m.\u001B[39;49m\u001B[43mOneSide\u001B[49m\u001B[43m,\u001B[49m\n\u001B[1;32m     46\u001B[0m \u001B[43m        \u001B[49m\u001B[43mdisplay_placeholder\u001B[49m\u001B[38;5;241;43m=\u001B[39;49m\u001B[38;5;28;43;01mFalse\u001B[39;49;00m\u001B[43m,\u001B[49m\n\u001B[1;32m     47\u001B[0m \u001B[43m        \u001B[49m\u001B[43mis_doppelwegweiser\u001B[49m\u001B[38;5;241;43m=\u001B[39;49m\u001B[38;5;28;43;01mFalse\u001B[39;49;00m\u001B[43m,\u001B[49m\n\u001B[1;32m     48\u001B[0m \u001B[43m        \u001B[49m\u001B[43mtafel_teile\u001B[49m\u001B[38;5;241;43m=\u001B[39;49m\u001B[43mgelb_tafel_teil\u001B[49m\u001B[43m,\u001B[49m\n\u001B[1;32m     49\u001B[0m \u001B[43m        \u001B[49m\u001B[38;5;28;43mid\u001B[39;49m\u001B[38;5;241;43m=\u001B[39;49m\u001B[43muuid4\u001B[49m\u001B[43m(\u001B[49m\u001B[43m)\u001B[49m\u001B[43m,\u001B[49m\n\u001B[1;32m     50\u001B[0m \u001B[43m    \u001B[49m\u001B[43m)\u001B[49m\n\u001B[1;32m     51\u001B[0m \u001B[38;5;66;03m#\u001B[39;00m\n\u001B[1;32m     52\u001B[0m \u001B[38;5;66;03m#     gelb_tafel_list.append(gelb_tafel)\u001B[39;00m\n\u001B[1;32m     53\u001B[0m \u001B[38;5;66;03m#\u001B[39;00m\n\u001B[0;32m   (...)\u001B[0m\n\u001B[1;32m     72\u001B[0m \u001B[38;5;66;03m#     id=uuid4()\u001B[39;00m\n\u001B[1;32m     73\u001B[0m \u001B[38;5;66;03m# )\u001B[39;00m\n",
      "File \u001B[0;32m/opt/miniconda3/envs/unitsol/lib/python3.10/site-packages/pydantic/main.py:253\u001B[0m, in \u001B[0;36mBaseModel.__init__\u001B[0;34m(self, **data)\u001B[0m\n\u001B[1;32m    251\u001B[0m \u001B[38;5;66;03m# `__tracebackhide__` tells pytest and some other tools to omit this function from tracebacks\u001B[39;00m\n\u001B[1;32m    252\u001B[0m __tracebackhide__ \u001B[38;5;241m=\u001B[39m \u001B[38;5;28;01mTrue\u001B[39;00m\n\u001B[0;32m--> 253\u001B[0m validated_self \u001B[38;5;241m=\u001B[39m \u001B[38;5;28;43mself\u001B[39;49m\u001B[38;5;241;43m.\u001B[39;49m\u001B[43m__pydantic_validator__\u001B[49m\u001B[38;5;241;43m.\u001B[39;49m\u001B[43mvalidate_python\u001B[49m\u001B[43m(\u001B[49m\u001B[43mdata\u001B[49m\u001B[43m,\u001B[49m\u001B[43m \u001B[49m\u001B[43mself_instance\u001B[49m\u001B[38;5;241;43m=\u001B[39;49m\u001B[38;5;28;43mself\u001B[39;49m\u001B[43m)\u001B[49m\n\u001B[1;32m    254\u001B[0m \u001B[38;5;28;01mif\u001B[39;00m \u001B[38;5;28mself\u001B[39m \u001B[38;5;129;01mis\u001B[39;00m \u001B[38;5;129;01mnot\u001B[39;00m validated_self:\n\u001B[1;32m    255\u001B[0m     warnings\u001B[38;5;241m.\u001B[39mwarn(\n\u001B[1;32m    256\u001B[0m         \u001B[38;5;124m'\u001B[39m\u001B[38;5;124mA custom validator is returning a value other than `self`.\u001B[39m\u001B[38;5;130;01m\\n\u001B[39;00m\u001B[38;5;124m'\u001B[39m\n\u001B[1;32m    257\u001B[0m         \u001B[38;5;124m\"\u001B[39m\u001B[38;5;124mReturning anything other than `self` from a top level model validator isn\u001B[39m\u001B[38;5;124m'\u001B[39m\u001B[38;5;124mt supported when validating via `__init__`.\u001B[39m\u001B[38;5;130;01m\\n\u001B[39;00m\u001B[38;5;124m\"\u001B[39m\n\u001B[1;32m    258\u001B[0m         \u001B[38;5;124m'\u001B[39m\u001B[38;5;124mSee the `model_validator` docs (https://docs.pydantic.dev/latest/concepts/validators/#model-validators) for more details.\u001B[39m\u001B[38;5;124m'\u001B[39m,\n\u001B[1;32m    259\u001B[0m         stacklevel\u001B[38;5;241m=\u001B[39m\u001B[38;5;241m2\u001B[39m,\n\u001B[1;32m    260\u001B[0m     )\n",
      "\u001B[0;31mValidationError\u001B[0m: 15 validation errors for GelbTafelDto\ntafel_teile.0\n  Input should be a valid dictionary or instance of GelbTafelTeilDto [type=model_type, input_value=('id', UUID('3812988e-535...2ce-9f3a-32d2ed349f3f')), input_type=tuple]\n    For further information visit https://errors.pydantic.dev/2.11/v/model_type\ntafel_teile.1\n  Input should be a valid dictionary or instance of GelbTafelTeilDto [type=model_type, input_value=('system_winkel', 180), input_type=tuple]\n    For further information visit https://errors.pydantic.dev/2.11/v/model_type\ntafel_teile.2\n  Input should be a valid dictionary or instance of GelbTafelTeilDto [type=model_type, input_value=('montage_winkel', 180), input_type=tuple]\n    For further information visit https://errors.pydantic.dev/2.11/v/model_type\ntafel_teile.3\n  Input should be a valid dictionary or instance of GelbTafelTeilDto [type=model_type, input_value=('ausrichtung_beschriftun...ftungTypeEnum.Right: 1>), input_type=tuple]\n    For further information visit https://errors.pydantic.dev/2.11/v/model_type\ntafel_teile.4\n  Input should be a valid dictionary or instance of GelbTafelTeilDto [type=model_type, input_value=('order', 1), input_type=tuple]\n    For further information visit https://errors.pydantic.dev/2.11/v/model_type\ntafel_teile.5\n  Input should be a valid dictionary or instance of GelbTafelTeilDto [type=model_type, input_value=('routen_feld1', None), input_type=tuple]\n    For further information visit https://errors.pydantic.dev/2.11/v/model_type\ntafel_teile.6\n  Input should be a valid dictionary or instance of GelbTafelTeilDto [type=model_type, input_value=('routen_feld2', None), input_type=tuple]\n    For further information visit https://errors.pydantic.dev/2.11/v/model_type\ntafel_teile.7\n  Input should be a valid dictionary or instance of GelbTafelTeilDto [type=model_type, input_value=('routen_feld3', None), input_type=tuple]\n    For further information visit https://errors.pydantic.dev/2.11/v/model_type\ntafel_teile.8\n  Input should be a valid dictionary or instance of GelbTafelTeilDto [type=model_type, input_value=('spitze_type', <TafelSpi...eTypeEnum.Wanderweg: 1>), input_type=tuple]\n    For further information visit https://errors.pydantic.dev/2.11/v/model_type\ntafel_teile.9\n  Input should be a valid dictionary or instance of GelbTafelTeilDto [type=model_type, input_value=('anzahl_zeilen', 3), input_type=tuple]\n    For further information visit https://errors.pydantic.dev/2.11/v/model_type\ntafel_teile.10\n  Input should be a valid dictionary or instance of GelbTafelTeilDto [type=model_type, input_value=('entries', [GelbTafelEin...hwierigkeitsgrad=None)]), input_type=tuple]\n    For further information visit https://errors.pydantic.dev/2.11/v/model_type\ntafel_teile.11\n  Input should be a valid dictionary or instance of GelbTafelTeilDto [type=model_type, input_value=('zubringer_symbol1', None), input_type=tuple]\n    For further information visit https://errors.pydantic.dev/2.11/v/model_type\ntafel_teile.12\n  Input should be a valid dictionary or instance of GelbTafelTeilDto [type=model_type, input_value=('zubringer_symbol2', None), input_type=tuple]\n    For further information visit https://errors.pydantic.dev/2.11/v/model_type\ntafel_teile.13\n  Input should be a valid dictionary or instance of GelbTafelTeilDto [type=model_type, input_value=('zubringer_text', None), input_type=tuple]\n    For further information visit https://errors.pydantic.dev/2.11/v/model_type\ntafel_teile.14\n  Input should be a valid dictionary or instance of GelbTafelTeilDto [type=model_type, input_value=('zubringer_text_scaling_mode', None), input_type=tuple]\n    For further information visit https://errors.pydantic.dev/2.11/v/model_type"
     ]
    }
   ],
   "execution_count": 18
  }
 ],
 "metadata": {
  "kernelspec": {
   "display_name": "Python 3",
   "language": "python",
   "name": "python3"
  },
  "language_info": {
   "codemirror_mode": {
    "name": "ipython",
    "version": 2
   },
   "file_extension": ".py",
   "mimetype": "text/x-python",
   "name": "python",
   "nbconvert_exporter": "python",
   "pygments_lexer": "ipython2",
   "version": "2.7.6"
  }
 },
 "nbformat": 4,
 "nbformat_minor": 5
}
